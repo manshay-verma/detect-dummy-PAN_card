{
  "nbformat": 4,
  "nbformat_minor": 0,
  "metadata": {
    "colab": {
      "provenance": [],
      "authorship_tag": "ABX9TyOG5ZfUTac1kjowWNGhrf2r",
      "include_colab_link": true
    },
    "kernelspec": {
      "name": "python3",
      "display_name": "Python 3"
    },
    "language_info": {
      "name": "python"
    }
  },
  "cells": [
    {
      "cell_type": "markdown",
      "metadata": {
        "id": "view-in-github",
        "colab_type": "text"
      },
      "source": [
        "<a href=\"https://colab.research.google.com/github/manshay-verma/detect-dummy-PAN_card/blob/main/pancard_detection.ipynb\" target=\"_parent\"><img src=\"https://colab.research.google.com/assets/colab-badge.svg\" alt=\"Open In Colab\"/></a>"
      ]
    },
    {
      "cell_type": "code",
      "execution_count": 1,
      "metadata": {
        "id": "OLwcAvk39tNk"
      },
      "outputs": [],
      "source": [
        "from skimage.metrics import structural_similarity\n",
        "import imutils\n",
        "import cv2\n",
        "from PIL import Image\n",
        "import requests"
      ]
    },
    {
      "cell_type": "code",
      "source": [
        "!mkdir pan_card_tampering\n",
        "!mkdir pan_card_tampering/image"
      ],
      "metadata": {
        "id": "dOwNx-02-fiE"
      },
      "execution_count": 2,
      "outputs": []
    },
    {
      "cell_type": "code",
      "source": [
        "original = Image.open(requests.get('https://www.thestatesman.com/wp-content/uploads/2019/07/pan-card.jpg', stream=True).raw)\n",
        "tampered = Image.open(requests.get('https://assets1.cleartax-cdn.com/s/img/20170526124335/Pan4.png',stream=True).raw)"
      ],
      "metadata": {
        "id": "lhBYbnCv-9Md"
      },
      "execution_count": 3,
      "outputs": []
    },
    {
      "cell_type": "code",
      "source": [
        "print(\"Original image Format\", original.format)\n",
        "print(\"Tampered image Format\", tampered.format)\n",
        "\n",
        "\n",
        "print(\"Original image Size\", original.size)\n",
        "print(\"Tampered image Size\", tampered.size)\n"
      ],
      "metadata": {
        "colab": {
          "base_uri": "https://localhost:8080/"
        },
        "id": "hIT1M6rwBe7U",
        "outputId": "d176857d-8e2e-48a0-b66a-2e4c7d6d4439"
      },
      "execution_count": 4,
      "outputs": [
        {
          "output_type": "stream",
          "name": "stdout",
          "text": [
            "Original image Format JPEG\n",
            "Tampered image Format PNG\n",
            "Original image Size (1200, 800)\n",
            "Tampered image Size (282, 179)\n"
          ]
        }
      ]
    },
    {
      "cell_type": "code",
      "source": [
        "# Resize Image\n",
        "original = original.resize((250,160))\n",
        "original.save('pan_card_tampering/image/original.png')\n",
        "tampered = tampered.resize((250,160))\n",
        "tampered.save('pan_card_tampering/image/tampered.png')"
      ],
      "metadata": {
        "id": "EuvRF6E_BeqZ"
      },
      "execution_count": 5,
      "outputs": []
    },
    {
      "cell_type": "code",
      "source": [
        "original = cv2.imread('pan_card_tampering/image/original.png')\n",
        "tampered = cv2.imread('pan_card_tampering/image/tampered.png')"
      ],
      "metadata": {
        "id": "M1kW5-j6BfIF"
      },
      "execution_count": 6,
      "outputs": []
    },
    {
      "cell_type": "code",
      "source": [
        "original_gray = cv2.cvtColor(original, cv2.COLOR_BGR2GRAY)\n",
        "tampered_gray = cv2.cvtColor(tampered, cv2.COLOR_BGR2GRAY)"
      ],
      "metadata": {
        "id": "eYD5gSoMEriC"
      },
      "execution_count": 7,
      "outputs": []
    },
    {
      "cell_type": "code",
      "source": [
        "tampered_gray"
      ],
      "metadata": {
        "colab": {
          "base_uri": "https://localhost:8080/",
          "height": 201
        },
        "id": "gxV_N6rPEhLe",
        "outputId": "f8b0067a-2837-45ce-d7d4-5e98058e30ec"
      },
      "execution_count": 12,
      "outputs": [
        {
          "output_type": "execute_result",
          "data": {
            "text/plain": [
              "array([[254, 254, 254, ..., 252, 252, 254],\n",
              "       [254, 254, 254, ..., 251, 251, 253],\n",
              "       [254, 254, 250, ..., 238, 252, 252],\n",
              "       ...,\n",
              "       [253, 255, 250, ..., 236, 251, 252],\n",
              "       [254, 253, 253, ..., 248, 253, 253],\n",
              "       [255, 254, 254, ..., 253, 253, 250]], dtype=uint8)"
            ],
            "text/html": [
              "<style>\n",
              "      .ndarray_repr .ndarray_raw_data {\n",
              "        display: none;\n",
              "      }\n",
              "      .ndarray_repr.show_array .ndarray_raw_data {\n",
              "        display: block;\n",
              "      }\n",
              "      .ndarray_repr.show_array .ndarray_image_preview {\n",
              "        display: none;\n",
              "      }\n",
              "      </style>\n",
              "      <div id=\"id-b6f9da13-b1c9-40ad-92dc-a201d3ace095\" class=\"ndarray_repr\"><pre>ndarray (160, 250) <button style=\"padding: 0 2px;\">show data</button></pre><img src=\"data:image/png;base64,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\" class=\"ndarray_image_preview\" /><pre class=\"ndarray_raw_data\">array([[254, 254, 254, ..., 252, 252, 254],\n",
              "       [254, 254, 254, ..., 251, 251, 253],\n",
              "       [254, 254, 250, ..., 238, 252, 252],\n",
              "       ...,\n",
              "       [253, 255, 250, ..., 236, 251, 252],\n",
              "       [254, 253, 253, ..., 248, 253, 253],\n",
              "       [255, 254, 254, ..., 253, 253, 250]], dtype=uint8)</pre></div><script>\n",
              "      (() => {\n",
              "      const titles = ['show data', 'hide data'];\n",
              "      let index = 0\n",
              "      document.querySelector('#id-b6f9da13-b1c9-40ad-92dc-a201d3ace095 button').onclick = (e) => {\n",
              "        document.querySelector('#id-b6f9da13-b1c9-40ad-92dc-a201d3ace095').classList.toggle('show_array');\n",
              "        index = (++index) % 2;\n",
              "        document.querySelector('#id-b6f9da13-b1c9-40ad-92dc-a201d3ace095 button').textContent = titles[index];\n",
              "        e.preventDefault();\n",
              "        e.stopPropagation();\n",
              "      }\n",
              "      })();\n",
              "    </script>"
            ]
          },
          "metadata": {},
          "execution_count": 12
        }
      ]
    },
    {
      "cell_type": "code",
      "source": [
        "(score, diff) = structural_similarity(original_gray,tampered_gray,full=True)\n",
        "diff = (diff*255).astype('uint8')\n",
        "print('SSIM: {}'.format(score))"
      ],
      "metadata": {
        "colab": {
          "base_uri": "https://localhost:8080/"
        },
        "id": "nS83S3dyEhIJ",
        "outputId": "451da59f-a0a6-4146-a35f-a44c9272b5cc"
      },
      "execution_count": 8,
      "outputs": [
        {
          "output_type": "stream",
          "name": "stdout",
          "text": [
            "SSIM: 0.31686135690489126\n"
          ]
        }
      ]
    },
    {
      "cell_type": "code",
      "source": [],
      "metadata": {
        "id": "GBID8CyeEhF4"
      },
      "execution_count": 8,
      "outputs": []
    },
    {
      "cell_type": "code",
      "source": [],
      "metadata": {
        "id": "7HImScSwGC7k"
      },
      "execution_count": 8,
      "outputs": []
    },
    {
      "cell_type": "code",
      "source": [],
      "metadata": {
        "id": "OCpQmVj_GC4s"
      },
      "execution_count": 8,
      "outputs": []
    },
    {
      "cell_type": "code",
      "source": [],
      "metadata": {
        "id": "v0gy7nsOFCi_"
      },
      "execution_count": 8,
      "outputs": []
    }
  ]
}